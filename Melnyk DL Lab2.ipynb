{
 "cells": [
  {
   "cell_type": "code",
   "execution_count": 1,
   "id": "07023f03",
   "metadata": {},
   "outputs": [
    {
     "name": "stderr",
     "output_type": "stream",
     "text": [
      "C:\\Users\\Тимофей\\AppData\\Roaming\\Python\\Python310\\site-packages\\scipy\\__init__.py:160: UserWarning: A NumPy version >=1.19.5 and <1.27.0 is required for this version of SciPy (detected version 2.0.2)\n",
      "  warnings.warn(f\"A NumPy version >={np_minversion} and <{np_maxversion}\"\n",
      "\n",
      "A module that was compiled using NumPy 1.x cannot be run in\n",
      "NumPy 2.0.2 as it may crash. To support both 1.x and 2.x\n",
      "versions of NumPy, modules must be compiled with NumPy 2.0.\n",
      "Some module may need to rebuild instead e.g. with 'pybind11>=2.12'.\n",
      "\n",
      "If you are a user of the module, the easiest solution will be to\n",
      "downgrade to 'numpy<2' or try to upgrade the affected module.\n",
      "We expect that some modules will need time to support NumPy 2.\n",
      "\n",
      "Traceback (most recent call last):  File \"E:\\Zmiya\\lib\\runpy.py\", line 196, in _run_module_as_main\n",
      "    return _run_code(code, main_globals, None,\n",
      "  File \"E:\\Zmiya\\lib\\runpy.py\", line 86, in _run_code\n",
      "    exec(code, run_globals)\n",
      "  File \"E:\\Zmiya\\lib\\site-packages\\ipykernel_launcher.py\", line 17, in <module>\n",
      "    app.launch_new_instance()\n",
      "  File \"E:\\Zmiya\\lib\\site-packages\\traitlets\\config\\application.py\", line 992, in launch_instance\n",
      "    app.start()\n",
      "  File \"E:\\Zmiya\\lib\\site-packages\\ipykernel\\kernelapp.py\", line 711, in start\n",
      "    self.io_loop.start()\n",
      "  File \"E:\\Zmiya\\lib\\site-packages\\tornado\\platform\\asyncio.py\", line 199, in start\n",
      "    self.asyncio_loop.run_forever()\n",
      "  File \"E:\\Zmiya\\lib\\asyncio\\base_events.py\", line 603, in run_forever\n",
      "    self._run_once()\n",
      "  File \"E:\\Zmiya\\lib\\asyncio\\base_events.py\", line 1906, in _run_once\n",
      "    handle._run()\n",
      "  File \"E:\\Zmiya\\lib\\asyncio\\events.py\", line 80, in _run\n",
      "    self._context.run(self._callback, *self._args)\n",
      "  File \"E:\\Zmiya\\lib\\site-packages\\ipykernel\\kernelbase.py\", line 510, in dispatch_queue\n",
      "    await self.process_one()\n",
      "  File \"E:\\Zmiya\\lib\\site-packages\\ipykernel\\kernelbase.py\", line 499, in process_one\n",
      "    await dispatch(*args)\n",
      "  File \"E:\\Zmiya\\lib\\site-packages\\ipykernel\\kernelbase.py\", line 406, in dispatch_shell\n",
      "    await result\n",
      "  File \"E:\\Zmiya\\lib\\site-packages\\ipykernel\\kernelbase.py\", line 729, in execute_request\n",
      "    reply_content = await reply_content\n",
      "  File \"E:\\Zmiya\\lib\\site-packages\\ipykernel\\ipkernel.py\", line 411, in do_execute\n",
      "    res = shell.run_cell(\n",
      "  File \"E:\\Zmiya\\lib\\site-packages\\ipykernel\\zmqshell.py\", line 531, in run_cell\n",
      "    return super().run_cell(*args, **kwargs)\n",
      "  File \"E:\\Zmiya\\lib\\site-packages\\IPython\\core\\interactiveshell.py\", line 2961, in run_cell\n",
      "    result = self._run_cell(\n",
      "  File \"E:\\Zmiya\\lib\\site-packages\\IPython\\core\\interactiveshell.py\", line 3016, in _run_cell\n",
      "    result = runner(coro)\n",
      "  File \"E:\\Zmiya\\lib\\site-packages\\IPython\\core\\async_helpers.py\", line 129, in _pseudo_sync_runner\n",
      "    coro.send(None)\n",
      "  File \"E:\\Zmiya\\lib\\site-packages\\IPython\\core\\interactiveshell.py\", line 3221, in run_cell_async\n",
      "    has_raised = await self.run_ast_nodes(code_ast.body, cell_name,\n",
      "  File \"E:\\Zmiya\\lib\\site-packages\\IPython\\core\\interactiveshell.py\", line 3400, in run_ast_nodes\n",
      "    if await self.run_code(code, result, async_=asy):\n",
      "  File \"E:\\Zmiya\\lib\\site-packages\\IPython\\core\\interactiveshell.py\", line 3460, in run_code\n",
      "    exec(code_obj, self.user_global_ns, self.user_ns)\n",
      "  File \"C:\\Users\\Тимофей\\AppData\\Local\\Temp\\ipykernel_15328\\2268878206.py\", line 1, in <module>\n",
      "    import tensorflow as tf\n",
      "  File \"C:\\Users\\Тимофей\\AppData\\Roaming\\Python\\Python310\\site-packages\\tensorflow\\__init__.py\", line 49, in <module>\n",
      "    from tensorflow._api.v2 import __internal__\n",
      "  File \"C:\\Users\\Тимофей\\AppData\\Roaming\\Python\\Python310\\site-packages\\tensorflow\\_api\\v2\\__internal__\\__init__.py\", line 13, in <module>\n",
      "    from tensorflow._api.v2.__internal__ import feature_column\n",
      "  File \"C:\\Users\\Тимофей\\AppData\\Roaming\\Python\\Python310\\site-packages\\tensorflow\\_api\\v2\\__internal__\\feature_column\\__init__.py\", line 8, in <module>\n",
      "    from tensorflow.python.feature_column.feature_column_v2 import DenseColumn # line: 1777\n",
      "  File \"C:\\Users\\Тимофей\\AppData\\Roaming\\Python\\Python310\\site-packages\\tensorflow\\python\\feature_column\\feature_column_v2.py\", line 38, in <module>\n",
      "    from tensorflow.python.feature_column import feature_column as fc_old\n",
      "  File \"C:\\Users\\Тимофей\\AppData\\Roaming\\Python\\Python310\\site-packages\\tensorflow\\python\\feature_column\\feature_column.py\", line 41, in <module>\n",
      "    from tensorflow.python.layers import base\n",
      "  File \"C:\\Users\\Тимофей\\AppData\\Roaming\\Python\\Python310\\site-packages\\tensorflow\\python\\layers\\base.py\", line 16, in <module>\n",
      "    from tensorflow.python.keras.legacy_tf_layers import base\n",
      "  File \"C:\\Users\\Тимофей\\AppData\\Roaming\\Python\\Python310\\site-packages\\tensorflow\\python\\keras\\__init__.py\", line 25, in <module>\n",
      "    from tensorflow.python.keras import models\n",
      "  File \"C:\\Users\\Тимофей\\AppData\\Roaming\\Python\\Python310\\site-packages\\tensorflow\\python\\keras\\models.py\", line 25, in <module>\n",
      "    from tensorflow.python.keras.engine import training_v1\n",
      "  File \"C:\\Users\\Тимофей\\AppData\\Roaming\\Python\\Python310\\site-packages\\tensorflow\\python\\keras\\engine\\training_v1.py\", line 46, in <module>\n",
      "    from tensorflow.python.keras.engine import training_arrays_v1\n",
      "  File \"C:\\Users\\Тимофей\\AppData\\Roaming\\Python\\Python310\\site-packages\\tensorflow\\python\\keras\\engine\\training_arrays_v1.py\", line 37, in <module>\n",
      "    from scipy.sparse import issparse  # pylint: disable=g-import-not-at-top\n",
      "  File \"C:\\Users\\Тимофей\\AppData\\Roaming\\Python\\Python310\\site-packages\\scipy\\sparse\\__init__.py\", line 267, in <module>\n",
      "    from ._csr import *\n",
      "  File \"C:\\Users\\Тимофей\\AppData\\Roaming\\Python\\Python310\\site-packages\\scipy\\sparse\\_csr.py\", line 10, in <module>\n",
      "    from ._sparsetools import (csr_tocsc, csr_tobsr, csr_count_blocks,\n"
     ]
    },
    {
     "ename": "AttributeError",
     "evalue": "_ARRAY_API not found",
     "output_type": "error",
     "traceback": [
      "\u001b[1;31m---------------------------------------------------------------------------\u001b[0m",
      "\u001b[1;31mAttributeError\u001b[0m                            Traceback (most recent call last)",
      "\u001b[1;31mAttributeError\u001b[0m: _ARRAY_API not found"
     ]
    },
    {
     "name": "stderr",
     "output_type": "stream",
     "text": [
      "\n",
      "A module that was compiled using NumPy 1.x cannot be run in\n",
      "NumPy 2.0.2 as it may crash. To support both 1.x and 2.x\n",
      "versions of NumPy, modules must be compiled with NumPy 2.0.\n",
      "Some module may need to rebuild instead e.g. with 'pybind11>=2.12'.\n",
      "\n",
      "If you are a user of the module, the easiest solution will be to\n",
      "downgrade to 'numpy<2' or try to upgrade the affected module.\n",
      "We expect that some modules will need time to support NumPy 2.\n",
      "\n",
      "Traceback (most recent call last):  File \"E:\\Zmiya\\lib\\runpy.py\", line 196, in _run_module_as_main\n",
      "    return _run_code(code, main_globals, None,\n",
      "  File \"E:\\Zmiya\\lib\\runpy.py\", line 86, in _run_code\n",
      "    exec(code, run_globals)\n",
      "  File \"E:\\Zmiya\\lib\\site-packages\\ipykernel_launcher.py\", line 17, in <module>\n",
      "    app.launch_new_instance()\n",
      "  File \"E:\\Zmiya\\lib\\site-packages\\traitlets\\config\\application.py\", line 992, in launch_instance\n",
      "    app.start()\n",
      "  File \"E:\\Zmiya\\lib\\site-packages\\ipykernel\\kernelapp.py\", line 711, in start\n",
      "    self.io_loop.start()\n",
      "  File \"E:\\Zmiya\\lib\\site-packages\\tornado\\platform\\asyncio.py\", line 199, in start\n",
      "    self.asyncio_loop.run_forever()\n",
      "  File \"E:\\Zmiya\\lib\\asyncio\\base_events.py\", line 603, in run_forever\n",
      "    self._run_once()\n",
      "  File \"E:\\Zmiya\\lib\\asyncio\\base_events.py\", line 1906, in _run_once\n",
      "    handle._run()\n",
      "  File \"E:\\Zmiya\\lib\\asyncio\\events.py\", line 80, in _run\n",
      "    self._context.run(self._callback, *self._args)\n",
      "  File \"E:\\Zmiya\\lib\\site-packages\\ipykernel\\kernelbase.py\", line 510, in dispatch_queue\n",
      "    await self.process_one()\n",
      "  File \"E:\\Zmiya\\lib\\site-packages\\ipykernel\\kernelbase.py\", line 499, in process_one\n",
      "    await dispatch(*args)\n",
      "  File \"E:\\Zmiya\\lib\\site-packages\\ipykernel\\kernelbase.py\", line 406, in dispatch_shell\n",
      "    await result\n",
      "  File \"E:\\Zmiya\\lib\\site-packages\\ipykernel\\kernelbase.py\", line 729, in execute_request\n",
      "    reply_content = await reply_content\n",
      "  File \"E:\\Zmiya\\lib\\site-packages\\ipykernel\\ipkernel.py\", line 411, in do_execute\n",
      "    res = shell.run_cell(\n",
      "  File \"E:\\Zmiya\\lib\\site-packages\\ipykernel\\zmqshell.py\", line 531, in run_cell\n",
      "    return super().run_cell(*args, **kwargs)\n",
      "  File \"E:\\Zmiya\\lib\\site-packages\\IPython\\core\\interactiveshell.py\", line 2961, in run_cell\n",
      "    result = self._run_cell(\n",
      "  File \"E:\\Zmiya\\lib\\site-packages\\IPython\\core\\interactiveshell.py\", line 3016, in _run_cell\n",
      "    result = runner(coro)\n",
      "  File \"E:\\Zmiya\\lib\\site-packages\\IPython\\core\\async_helpers.py\", line 129, in _pseudo_sync_runner\n",
      "    coro.send(None)\n",
      "  File \"E:\\Zmiya\\lib\\site-packages\\IPython\\core\\interactiveshell.py\", line 3221, in run_cell_async\n",
      "    has_raised = await self.run_ast_nodes(code_ast.body, cell_name,\n",
      "  File \"E:\\Zmiya\\lib\\site-packages\\IPython\\core\\interactiveshell.py\", line 3400, in run_ast_nodes\n",
      "    if await self.run_code(code, result, async_=asy):\n",
      "  File \"E:\\Zmiya\\lib\\site-packages\\IPython\\core\\interactiveshell.py\", line 3460, in run_code\n",
      "    exec(code_obj, self.user_global_ns, self.user_ns)\n",
      "  File \"C:\\Users\\Тимофей\\AppData\\Local\\Temp\\ipykernel_15328\\2268878206.py\", line 1, in <module>\n",
      "    import tensorflow as tf\n",
      "  File \"C:\\Users\\Тимофей\\AppData\\Roaming\\Python\\Python310\\site-packages\\tensorflow\\__init__.py\", line 49, in <module>\n",
      "    from tensorflow._api.v2 import __internal__\n",
      "  File \"C:\\Users\\Тимофей\\AppData\\Roaming\\Python\\Python310\\site-packages\\tensorflow\\_api\\v2\\__internal__\\__init__.py\", line 13, in <module>\n",
      "    from tensorflow._api.v2.__internal__ import feature_column\n",
      "  File \"C:\\Users\\Тимофей\\AppData\\Roaming\\Python\\Python310\\site-packages\\tensorflow\\_api\\v2\\__internal__\\feature_column\\__init__.py\", line 8, in <module>\n",
      "    from tensorflow.python.feature_column.feature_column_v2 import DenseColumn # line: 1777\n",
      "  File \"C:\\Users\\Тимофей\\AppData\\Roaming\\Python\\Python310\\site-packages\\tensorflow\\python\\feature_column\\feature_column_v2.py\", line 38, in <module>\n",
      "    from tensorflow.python.feature_column import feature_column as fc_old\n",
      "  File \"C:\\Users\\Тимофей\\AppData\\Roaming\\Python\\Python310\\site-packages\\tensorflow\\python\\feature_column\\feature_column.py\", line 41, in <module>\n",
      "    from tensorflow.python.layers import base\n",
      "  File \"C:\\Users\\Тимофей\\AppData\\Roaming\\Python\\Python310\\site-packages\\tensorflow\\python\\layers\\base.py\", line 16, in <module>\n",
      "    from tensorflow.python.keras.legacy_tf_layers import base\n",
      "  File \"C:\\Users\\Тимофей\\AppData\\Roaming\\Python\\Python310\\site-packages\\tensorflow\\python\\keras\\__init__.py\", line 25, in <module>\n",
      "    from tensorflow.python.keras import models\n",
      "  File \"C:\\Users\\Тимофей\\AppData\\Roaming\\Python\\Python310\\site-packages\\tensorflow\\python\\keras\\models.py\", line 25, in <module>\n",
      "    from tensorflow.python.keras.engine import training_v1\n",
      "  File \"C:\\Users\\Тимофей\\AppData\\Roaming\\Python\\Python310\\site-packages\\tensorflow\\python\\keras\\engine\\training_v1.py\", line 71, in <module>\n",
      "    from scipy.sparse import issparse  # pylint: disable=g-import-not-at-top\n",
      "  File \"C:\\Users\\Тимофей\\AppData\\Roaming\\Python\\Python310\\site-packages\\scipy\\sparse\\__init__.py\", line 267, in <module>\n",
      "    from ._csr import *\n",
      "  File \"C:\\Users\\Тимофей\\AppData\\Roaming\\Python\\Python310\\site-packages\\scipy\\sparse\\_csr.py\", line 10, in <module>\n",
      "    from ._sparsetools import (csr_tocsc, csr_tobsr, csr_count_blocks,\n"
     ]
    },
    {
     "ename": "AttributeError",
     "evalue": "_ARRAY_API not found",
     "output_type": "error",
     "traceback": [
      "\u001b[1;31m---------------------------------------------------------------------------\u001b[0m",
      "\u001b[1;31mAttributeError\u001b[0m                            Traceback (most recent call last)",
      "\u001b[1;31mAttributeError\u001b[0m: _ARRAY_API not found"
     ]
    }
   ],
   "source": [
    "import tensorflow as tf\n",
    "from tensorflow.keras import layers, models"
   ]
  },
  {
   "cell_type": "code",
   "execution_count": 2,
   "id": "5ea86afe",
   "metadata": {},
   "outputs": [],
   "source": [
    "import numpy as np\n",
    "import pandas as pd"
   ]
  },
  {
   "cell_type": "code",
   "execution_count": 3,
   "id": "0330b6f3",
   "metadata": {},
   "outputs": [
    {
     "name": "stdout",
     "output_type": "stream",
     "text": [
      "Warning: Looks like you're using an outdated `kagglehub` version, please consider updating (latest version: 0.3.12)\n",
      "Downloading from https://www.kaggle.com/api/v1/datasets/download/stealthknight/bird-vs-drone?dataset_version_number=1...\n"
     ]
    },
    {
     "name": "stderr",
     "output_type": "stream",
     "text": [
      "100%|█████████████████████████████████████████████████████████████████████████████| 1.05G/1.05G [01:24<00:00, 13.4MB/s]"
     ]
    },
    {
     "name": "stdout",
     "output_type": "stream",
     "text": [
      "Extracting files...\n"
     ]
    },
    {
     "name": "stderr",
     "output_type": "stream",
     "text": [
      "\n"
     ]
    },
    {
     "name": "stdout",
     "output_type": "stream",
     "text": [
      "Path to dataset files: C:\\Users\\Тимофей\\.cache\\kagglehub\\datasets\\stealthknight\\bird-vs-drone\\versions\\1\n"
     ]
    }
   ],
   "source": [
    "import kagglehub\n",
    "\n",
    "# Download latest version\n",
    "path = kagglehub.dataset_download(\"stealthknight/bird-vs-drone\")\n",
    "\n",
    "print(\"Path to dataset files:\", path)"
   ]
  },
  {
   "cell_type": "code",
   "execution_count": 4,
   "id": "f7670e4d",
   "metadata": {},
   "outputs": [],
   "source": [
    "dataset_path = path"
   ]
  },
  {
   "cell_type": "code",
   "execution_count": 5,
   "id": "6a229aec",
   "metadata": {},
   "outputs": [],
   "source": [
    "from tensorflow.keras.preprocessing.image import ImageDataGenerator"
   ]
  },
  {
   "cell_type": "code",
   "execution_count": 6,
   "id": "479e0ba6",
   "metadata": {},
   "outputs": [],
   "source": [
    "# Створюємо генератори зображень для навчання та валідації з feature engineering\n",
    "train_datagen = ImageDataGenerator(\n",
    "    validation_split=0.2  # 20% на валідацію\n",
    ")\n"
   ]
  },
  {
   "cell_type": "code",
   "execution_count": 7,
   "id": "dd9264c4",
   "metadata": {},
   "outputs": [
    {
     "name": "stdout",
     "output_type": "stream",
     "text": [
      "Found 14659 images belonging to 2 classes.\n"
     ]
    }
   ],
   "source": [
    "# Генератор для навчального набору\n",
    "train_generator = train_datagen.flow_from_directory(\n",
    "    dataset_path+\"/Dataset/train\",\n",
    "    target_size=(128, 128),\n",
    "    batch_size=32,\n",
    "    class_mode='binary',\n",
    "    subset='training'\n",
    ")\n"
   ]
  },
  {
   "cell_type": "code",
   "execution_count": 8,
   "id": "aa994371",
   "metadata": {},
   "outputs": [
    {
     "name": "stdout",
     "output_type": "stream",
     "text": [
      "Found 348 images belonging to 2 classes.\n"
     ]
    }
   ],
   "source": [
    "\n",
    "# Генератор для валідаційного набору\n",
    "val_generator = train_datagen.flow_from_directory(\n",
    "    dataset_path+\"/Dataset/valid\",\n",
    "    target_size=(128, 128),\n",
    "    batch_size=32,\n",
    "    class_mode='binary',\n",
    "    subset='validation'\n",
    ")"
   ]
  },
  {
   "cell_type": "code",
   "execution_count": 9,
   "id": "d55d8c8e",
   "metadata": {},
   "outputs": [],
   "source": [
    "model = models.Sequential([\n",
    "    layers.Conv2D(32, (3, 3), activation='relu', input_shape=(128, 128, 3)),\n",
    "    layers.BatchNormalization(),\n",
    "    layers.MaxPooling2D((2, 2)),\n",
    "\n",
    "    layers.Conv2D(64, (3, 3), activation='relu'),\n",
    "    layers.BatchNormalization(),\n",
    "    layers.MaxPooling2D((2, 2)),\n",
    "\n",
    "    layers.Conv2D(128, (3, 3), activation='relu'),\n",
    "    layers.BatchNormalization(),\n",
    "    layers.MaxPooling2D((2, 2)),\n",
    "\n",
    "    layers.Flatten(),\n",
    "    layers.Dense(128, activation='relu'),\n",
    "    layers.Dropout(0.5),\n",
    "    layers.Dense(1, activation='sigmoid')  # Бінарна класифікація\n",
    "])\n"
   ]
  },
  {
   "cell_type": "code",
   "execution_count": 10,
   "id": "89002f3a",
   "metadata": {},
   "outputs": [],
   "source": [
    "# Компільовуємо модель\n",
    "model.compile(optimizer='adam',\n",
    "              loss='binary_crossentropy',\n",
    "              metrics=['accuracy'])\n"
   ]
  },
  {
   "cell_type": "code",
   "execution_count": 11,
   "id": "4a9c1f7f",
   "metadata": {},
   "outputs": [
    {
     "name": "stdout",
     "output_type": "stream",
     "text": [
      "Model: \"sequential\"\n",
      "_________________________________________________________________\n",
      " Layer (type)                Output Shape              Param #   \n",
      "=================================================================\n",
      " conv2d (Conv2D)             (None, 126, 126, 32)      896       \n",
      "                                                                 \n",
      " batch_normalization (Batch  (None, 126, 126, 32)      128       \n",
      " Normalization)                                                  \n",
      "                                                                 \n",
      " max_pooling2d (MaxPooling2  (None, 63, 63, 32)        0         \n",
      " D)                                                              \n",
      "                                                                 \n",
      " conv2d_1 (Conv2D)           (None, 61, 61, 64)        18496     \n",
      "                                                                 \n",
      " batch_normalization_1 (Bat  (None, 61, 61, 64)        256       \n",
      " chNormalization)                                                \n",
      "                                                                 \n",
      " max_pooling2d_1 (MaxPoolin  (None, 30, 30, 64)        0         \n",
      " g2D)                                                            \n",
      "                                                                 \n",
      " conv2d_2 (Conv2D)           (None, 28, 28, 128)       73856     \n",
      "                                                                 \n",
      " batch_normalization_2 (Bat  (None, 28, 28, 128)       512       \n",
      " chNormalization)                                                \n",
      "                                                                 \n",
      " max_pooling2d_2 (MaxPoolin  (None, 14, 14, 128)       0         \n",
      " g2D)                                                            \n",
      "                                                                 \n",
      " flatten (Flatten)           (None, 25088)             0         \n",
      "                                                                 \n",
      " dense (Dense)               (None, 128)               3211392   \n",
      "                                                                 \n",
      " dropout (Dropout)           (None, 128)               0         \n",
      "                                                                 \n",
      " dense_1 (Dense)             (None, 1)                 129       \n",
      "                                                                 \n",
      "=================================================================\n",
      "Total params: 3305665 (12.61 MB)\n",
      "Trainable params: 3305217 (12.61 MB)\n",
      "Non-trainable params: 448 (1.75 KB)\n",
      "_________________________________________________________________\n"
     ]
    }
   ],
   "source": [
    "# Виводимо архітектуру\n",
    "model.summary()"
   ]
  },
  {
   "cell_type": "code",
   "execution_count": 12,
   "id": "c5fb811e",
   "metadata": {},
   "outputs": [
    {
     "name": "stdout",
     "output_type": "stream",
     "text": [
      "Epoch 1/15\n",
      "459/459 [==============================] - 278s 604ms/step - loss: 0.0202 - accuracy: 0.9981 - val_loss: 3.6987e-21 - val_accuracy: 1.0000\n",
      "Epoch 2/15\n",
      "459/459 [==============================] - 159s 346ms/step - loss: 0.0232 - accuracy: 0.9990 - val_loss: 0.0000e+00 - val_accuracy: 1.0000\n",
      "Epoch 3/15\n",
      "459/459 [==============================] - 158s 344ms/step - loss: 0.0032 - accuracy: 0.9999 - val_loss: 0.0000e+00 - val_accuracy: 1.0000\n",
      "Epoch 4/15\n",
      "459/459 [==============================] - 170s 371ms/step - loss: 8.0540e-05 - accuracy: 0.9999 - val_loss: 0.0000e+00 - val_accuracy: 1.0000\n",
      "Epoch 5/15\n",
      "459/459 [==============================] - 175s 380ms/step - loss: 3.7059e-06 - accuracy: 1.0000 - val_loss: 0.0000e+00 - val_accuracy: 1.0000\n",
      "Epoch 6/15\n",
      "459/459 [==============================] - 152s 331ms/step - loss: 3.0447e-15 - accuracy: 1.0000 - val_loss: 0.0000e+00 - val_accuracy: 1.0000\n",
      "Epoch 7/15\n",
      "459/459 [==============================] - 153s 333ms/step - loss: 7.1707e-12 - accuracy: 1.0000 - val_loss: 0.0000e+00 - val_accuracy: 1.0000\n",
      "Epoch 8/15\n",
      "459/459 [==============================] - 153s 333ms/step - loss: 2.6640e-14 - accuracy: 1.0000 - val_loss: 0.0000e+00 - val_accuracy: 1.0000\n",
      "Epoch 9/15\n",
      "459/459 [==============================] - 153s 332ms/step - loss: 1.0143e-19 - accuracy: 1.0000 - val_loss: 0.0000e+00 - val_accuracy: 1.0000\n",
      "Epoch 10/15\n",
      "459/459 [==============================] - 148s 322ms/step - loss: 1.9692e-11 - accuracy: 1.0000 - val_loss: 0.0000e+00 - val_accuracy: 1.0000\n",
      "Epoch 11/15\n",
      "459/459 [==============================] - 142s 309ms/step - loss: 0.0021 - accuracy: 0.9998 - val_loss: 0.0000e+00 - val_accuracy: 1.0000\n",
      "Epoch 12/15\n",
      "459/459 [==============================] - 141s 307ms/step - loss: 0.0022 - accuracy: 0.9999 - val_loss: 0.0000e+00 - val_accuracy: 1.0000\n",
      "Epoch 13/15\n",
      "459/459 [==============================] - 140s 305ms/step - loss: 0.0012 - accuracy: 0.9999 - val_loss: 0.0000e+00 - val_accuracy: 1.0000\n",
      "Epoch 14/15\n",
      "459/459 [==============================] - 140s 305ms/step - loss: 2.4765e-04 - accuracy: 0.9999 - val_loss: 0.0000e+00 - val_accuracy: 1.0000\n",
      "Epoch 15/15\n",
      "459/459 [==============================] - 139s 302ms/step - loss: 2.3738e-22 - accuracy: 1.0000 - val_loss: 0.0000e+00 - val_accuracy: 1.0000\n"
     ]
    }
   ],
   "source": [
    "# Навчаємо модель\n",
    "history = model.fit(\n",
    "    train_generator,\n",
    "    epochs=15,\n",
    "    validation_data=val_generator\n",
    ")"
   ]
  },
  {
   "cell_type": "code",
   "execution_count": 13,
   "id": "83fba627",
   "metadata": {},
   "outputs": [],
   "source": [
    "model.save(\"bird_vs_drone_cnn_baseline.keras\")"
   ]
  },
  {
   "cell_type": "markdown",
   "id": "1ee1dcf3",
   "metadata": {},
   "source": [
    "Проведемо Feature engineering"
   ]
  },
  {
   "cell_type": "markdown",
   "id": "f7b1bd84",
   "metadata": {},
   "source": [
    "Застосуємо спершу нормалізацію та аугментацію даних. Останнє дозволить нам збільшити різноманітність навчальних даних без потреби в додаткових зображеннях, а нормалізація допомагає моделі швидше та стабільніше навчатися.\n",
    "\n",
    "\n",
    "1. rescale=1.0/255\n",
    "\n",
    "Що це:\n",
    "Нормалізація пікселів з діапазону [0, 255] до [0, 1].\n",
    "\n",
    "Навіщо:\n",
    "Полегшує та пришвидшує навчання моделі, стабілізує градієнти.\n",
    "\n",
    "\n",
    "2. rotation_range=20\n",
    "\n",
    "Що це:\n",
    "Випадкове обертання зображень до ±20 градусів.\n",
    "\n",
    "Навіщо:\n",
    "Модель стає стійкішою до орієнтації об’єкта (наприклад, дрон може бути під нахилом).\n",
    "\n",
    "\n",
    "3. width_shift_range=0.2 і height_shift_range=0.2\n",
    "\n",
    "Що це:\n",
    "Зсув зображення по ширині або висоті на ±20% від розміру.\n",
    "\n",
    "Навіщо:\n",
    "Імітує зміщення об'єкта в кадрі. Модель не повинна залежати від точного положення об'єкта.\n",
    "\n",
    "\n",
    "4. shear_range=0.2\n",
    "\n",
    "Що це:\n",
    "Застосування зсуву (shear) до зображення.\n",
    "\n",
    "Навіщо:\n",
    "Імітує спотворення перспективи, що часто трапляється в реальних фото/відео.\n",
    "\n",
    "\n",
    "5. zoom_range=0.2\n",
    "\n",
    "Що це:\n",
    "Збільшує або зменшує зображення випадково на ±20%.\n",
    "\n",
    "Навіщо:\n",
    "Дозволяє моделі впізнавати об’єкти при різних масштабах.\n",
    "\n",
    "\n",
    "6. horizontal_flip=True\n",
    "\n",
    "Що це:\n",
    "Випадкове горизонтальне віддзеркалення.\n",
    "\n",
    "Навіщо:\n",
    "Модель навчається не залежати від напрямку об’єкта (особливо важливо, якщо об'єкти симетричні).\n",
    "\n",
    "\n",
    "7. validation_split=0.2\n",
    "\n",
    "Що це:\n",
    "Відокремлення частини даних для валідації.\n",
    "\n",
    "Навіщо:\n",
    "Дозволяє контролювати переобучення й оцінювати якість навчання."
   ]
  },
  {
   "cell_type": "code",
   "execution_count": 14,
   "id": "ff026dec",
   "metadata": {},
   "outputs": [],
   "source": [
    "# Створюємо генератори зображень для навчання та валідації з feature engineering\n",
    "train_datagen1 = ImageDataGenerator(\n",
    "    rescale=1.0/255,  # Нормалізація пікселів у діапазон [0,1]\n",
    "    rotation_range=20, # Випадкове обертання зображень до ±20 градусів.\n",
    "    width_shift_range=0.2, # Зсув зображення по ширині на ±20% від розміру.\n",
    "    height_shift_range=0.2, # Зсув зображення по висоті на ±20% від розміру.\n",
    "    shear_range=0.2, # Застосування зсуву (shear) до зображення.\n",
    "    zoom_range=0.2, # Збільшує або зменшує зображення випадково на ±20%.\n",
    "    horizontal_flip=True, #Випадкове горизонтальне віддзеркалення.\n",
    "    validation_split=0.2  # 20% на валідацію\n",
    ")\n"
   ]
  },
  {
   "cell_type": "code",
   "execution_count": 15,
   "id": "59728855",
   "metadata": {},
   "outputs": [
    {
     "name": "stdout",
     "output_type": "stream",
     "text": [
      "Found 14659 images belonging to 2 classes.\n"
     ]
    }
   ],
   "source": [
    "# Генератор для навчального набору\n",
    "train_generator = train_datagen1.flow_from_directory(\n",
    "    dataset_path+\"/Dataset/train\",\n",
    "    target_size=(128, 128),\n",
    "    batch_size=32,\n",
    "    class_mode='binary',\n",
    "    subset='training'\n",
    ")"
   ]
  },
  {
   "cell_type": "code",
   "execution_count": 16,
   "id": "9523b2a9",
   "metadata": {},
   "outputs": [
    {
     "name": "stdout",
     "output_type": "stream",
     "text": [
      "Found 348 images belonging to 2 classes.\n"
     ]
    }
   ],
   "source": [
    "# Генератор для валідаційного набору\n",
    "val_generator = train_datagen1.flow_from_directory(\n",
    "    dataset_path+\"/Dataset/valid\",\n",
    "    target_size=(128, 128),\n",
    "    batch_size=32,\n",
    "    class_mode='binary',\n",
    "    subset='validation'\n",
    ")"
   ]
  },
  {
   "cell_type": "code",
   "execution_count": 17,
   "id": "61f2ee55",
   "metadata": {},
   "outputs": [],
   "source": [
    "model1 = models.Sequential([\n",
    "    layers.Conv2D(32, (3, 3), activation='relu', input_shape=(128, 128, 3)),\n",
    "    layers.BatchNormalization(),\n",
    "    layers.MaxPooling2D((2, 2)),\n",
    "\n",
    "    layers.Conv2D(64, (3, 3), activation='relu'),\n",
    "    layers.BatchNormalization(),\n",
    "    layers.MaxPooling2D((2, 2)),\n",
    "\n",
    "    layers.Conv2D(128, (3, 3), activation='relu'),\n",
    "    layers.BatchNormalization(),\n",
    "    layers.MaxPooling2D((2, 2)),\n",
    "\n",
    "    layers.Flatten(),\n",
    "    layers.Dense(128, activation='relu'),\n",
    "    layers.Dropout(0.5),\n",
    "    layers.Dense(1, activation='sigmoid')  # Бінарна класифікація\n",
    "])\n"
   ]
  },
  {
   "cell_type": "code",
   "execution_count": 18,
   "id": "fa13bd29",
   "metadata": {},
   "outputs": [],
   "source": [
    "# Компільовуємо модель\n",
    "model1.compile(optimizer='adam',\n",
    "              loss='binary_crossentropy',\n",
    "              metrics=['accuracy'])\n"
   ]
  },
  {
   "cell_type": "code",
   "execution_count": 19,
   "id": "112d9208",
   "metadata": {},
   "outputs": [
    {
     "name": "stdout",
     "output_type": "stream",
     "text": [
      "Model: \"sequential_1\"\n",
      "_________________________________________________________________\n",
      " Layer (type)                Output Shape              Param #   \n",
      "=================================================================\n",
      " conv2d_3 (Conv2D)           (None, 126, 126, 32)      896       \n",
      "                                                                 \n",
      " batch_normalization_3 (Bat  (None, 126, 126, 32)      128       \n",
      " chNormalization)                                                \n",
      "                                                                 \n",
      " max_pooling2d_3 (MaxPoolin  (None, 63, 63, 32)        0         \n",
      " g2D)                                                            \n",
      "                                                                 \n",
      " conv2d_4 (Conv2D)           (None, 61, 61, 64)        18496     \n",
      "                                                                 \n",
      " batch_normalization_4 (Bat  (None, 61, 61, 64)        256       \n",
      " chNormalization)                                                \n",
      "                                                                 \n",
      " max_pooling2d_4 (MaxPoolin  (None, 30, 30, 64)        0         \n",
      " g2D)                                                            \n",
      "                                                                 \n",
      " conv2d_5 (Conv2D)           (None, 28, 28, 128)       73856     \n",
      "                                                                 \n",
      " batch_normalization_5 (Bat  (None, 28, 28, 128)       512       \n",
      " chNormalization)                                                \n",
      "                                                                 \n",
      " max_pooling2d_5 (MaxPoolin  (None, 14, 14, 128)       0         \n",
      " g2D)                                                            \n",
      "                                                                 \n",
      " flatten_1 (Flatten)         (None, 25088)             0         \n",
      "                                                                 \n",
      " dense_2 (Dense)             (None, 128)               3211392   \n",
      "                                                                 \n",
      " dropout_1 (Dropout)         (None, 128)               0         \n",
      "                                                                 \n",
      " dense_3 (Dense)             (None, 1)                 129       \n",
      "                                                                 \n",
      "=================================================================\n",
      "Total params: 3305665 (12.61 MB)\n",
      "Trainable params: 3305217 (12.61 MB)\n",
      "Non-trainable params: 448 (1.75 KB)\n",
      "_________________________________________________________________\n"
     ]
    }
   ],
   "source": [
    "# Виводимо архітектуру\n",
    "model1.summary()"
   ]
  },
  {
   "cell_type": "code",
   "execution_count": 20,
   "id": "1b541054",
   "metadata": {},
   "outputs": [
    {
     "name": "stdout",
     "output_type": "stream",
     "text": [
      "Epoch 1/15\n",
      "459/459 [==============================] - 158s 341ms/step - loss: 0.0180 - accuracy: 0.9977 - val_loss: 4.7719e-32 - val_accuracy: 1.0000\n",
      "Epoch 2/15\n",
      "459/459 [==============================] - 158s 343ms/step - loss: 3.3332e-10 - accuracy: 1.0000 - val_loss: 0.0000e+00 - val_accuracy: 1.0000\n",
      "Epoch 3/15\n",
      "459/459 [==============================] - 164s 357ms/step - loss: 0.0063 - accuracy: 0.9998 - val_loss: 3.3259e-29 - val_accuracy: 1.0000\n",
      "Epoch 4/15\n",
      "459/459 [==============================] - 183s 398ms/step - loss: 0.0017 - accuracy: 0.9999 - val_loss: 0.0000e+00 - val_accuracy: 1.0000\n",
      "Epoch 5/15\n",
      "459/459 [==============================] - 189s 411ms/step - loss: 1.5948e-04 - accuracy: 0.9999 - val_loss: 0.0000e+00 - val_accuracy: 1.0000\n",
      "Epoch 6/15\n",
      "459/459 [==============================] - 185s 404ms/step - loss: 8.1587e-14 - accuracy: 1.0000 - val_loss: 0.0000e+00 - val_accuracy: 1.0000\n",
      "Epoch 7/15\n",
      "459/459 [==============================] - 188s 409ms/step - loss: 6.0527e-17 - accuracy: 1.0000 - val_loss: 0.0000e+00 - val_accuracy: 1.0000\n",
      "Epoch 8/15\n",
      "459/459 [==============================] - 196s 426ms/step - loss: 1.4536e-13 - accuracy: 1.0000 - val_loss: 0.0000e+00 - val_accuracy: 1.0000\n",
      "Epoch 9/15\n",
      "459/459 [==============================] - 197s 430ms/step - loss: 9.5943e-12 - accuracy: 1.0000 - val_loss: 0.0000e+00 - val_accuracy: 1.0000\n",
      "Epoch 10/15\n",
      "459/459 [==============================] - 193s 421ms/step - loss: 1.2179e-11 - accuracy: 1.0000 - val_loss: 0.0000e+00 - val_accuracy: 1.0000\n",
      "Epoch 11/15\n",
      "459/459 [==============================] - 188s 409ms/step - loss: 1.8916e-13 - accuracy: 1.0000 - val_loss: 0.0000e+00 - val_accuracy: 1.0000\n",
      "Epoch 12/15\n",
      "459/459 [==============================] - 192s 417ms/step - loss: 1.6439e-11 - accuracy: 1.0000 - val_loss: 0.0000e+00 - val_accuracy: 1.0000\n",
      "Epoch 13/15\n",
      "459/459 [==============================] - 192s 418ms/step - loss: 9.3051e-12 - accuracy: 1.0000 - val_loss: 0.0000e+00 - val_accuracy: 1.0000\n",
      "Epoch 14/15\n",
      "459/459 [==============================] - 192s 418ms/step - loss: 2.0295e-14 - accuracy: 1.0000 - val_loss: 0.0000e+00 - val_accuracy: 1.0000\n",
      "Epoch 15/15\n",
      "459/459 [==============================] - 193s 420ms/step - loss: 1.0014e-10 - accuracy: 1.0000 - val_loss: 0.0000e+00 - val_accuracy: 1.0000\n"
     ]
    }
   ],
   "source": [
    "# Навчаємо модель\n",
    "history1 = model1.fit(\n",
    "    train_generator,\n",
    "    epochs=15,\n",
    "    validation_data=val_generator\n",
    ")"
   ]
  },
  {
   "cell_type": "code",
   "execution_count": null,
   "id": "b72d788e",
   "metadata": {},
   "outputs": [],
   "source": []
  },
  {
   "cell_type": "code",
   "execution_count": null,
   "id": "05d008e7",
   "metadata": {},
   "outputs": [],
   "source": []
  },
  {
   "cell_type": "code",
   "execution_count": 25,
   "id": "3af101f3",
   "metadata": {},
   "outputs": [],
   "source": [
    "# ** Порівняння результатів**\n",
    "def plot_results(history_cnn, history_finetune, history_finetune_2):\n",
    "    plt.figure(figsize=(12, 5))\n",
    "\n",
    "    # Порівняння точності\n",
    "    plt.subplot(1, 2, 1)\n",
    "    plt.plot(history_cnn.history['accuracy'], label=\"CNN Accuracy\")\n",
    "    plt.plot(history_finetune.history['accuracy'], label=\"CNN after augmentation and normalisation\")\n",
    "    plt.xlabel(\"Epochs\")\n",
    "    plt.ylabel(\"Accuracy\")\n",
    "    plt.legend()\n",
    "    plt.title(\"Порівняння точності моделей\")\n",
    "\n",
    "    # Порівняння втрат\n",
    "    plt.subplot(1, 2, 2)\n",
    "    plt.plot(history_cnn.history['loss'], label=\"CNN Loss\")\n",
    "    plt.plot(history_finetune.history['loss'], label=\"CNN after augmentation and normalisation Loss\")\n",
    "    plt.xlabel(\"Epochs\")\n",
    "    plt.ylabel(\"Loss\")\n",
    "    plt.legend()\n",
    "    plt.title(\"Порівняння втрат моделей\")\n",
    "\n",
    "    plt.show()"
   ]
  },
  {
   "cell_type": "code",
   "execution_count": 26,
   "id": "76f93ed3",
   "metadata": {},
   "outputs": [],
   "source": [
    "import matplotlib.pyplot as plt"
   ]
  },
  {
   "cell_type": "code",
   "execution_count": 27,
   "id": "34c4e9e5",
   "metadata": {
    "scrolled": false
   },
   "outputs": [
    {
     "data": {
      "image/png": "[encoded data removed]",
      "text/plain": [
       "<Figure size 1200x500 with 2 Axes>"
      ]
     },
     "metadata": {},
     "output_type": "display_data"
    }
   ],
   "source": [
    "plot_results(history, history1, history1)"
   ]
  },
  {
   "cell_type": "markdown",
   "id": "70993e94",
   "metadata": {},
   "source": [
    "Висновок: виконавши роботу можна побачити, що базова CNN досягає непоганої точності, оскільки вона навчається з нуля і не має попередніх знань про особливості птахів і дронів. Її згорткові шари поступово вчаться знаходити патерни в зображеннях, проте через обмежений обсяг даних модель може переобучитися або не навчитися розпізнавати складні випадки. Так, на порівнянні точності можна побачити падіння у подальших epoch (10-13), а також приблизно на них же збільшення втрат, плюс збільшення великі втрати на початку навчання.\n",
    "\n",
    "\n",
    "Якщо ж подивитися після проведення нормалізації та аугментації, то втрати зразу падають, дещо піднімаються і лишаються далі низькими, а точність за схожим, але дещо зеркальним, паттерном трохи падає спершу, але потім залишається високою"
   ]
  },
  {
   "cell_type": "code",
   "execution_count": null,
   "id": "13b9c212",
   "metadata": {},
   "outputs": [],
   "source": []
  }
 ],
 "metadata": {
  "kernelspec": {
   "display_name": "Python 3 (ipykernel)",
   "language": "python",
   "name": "python3"
  },
  "language_info": {
   "codemirror_mode": {
    "name": "ipython",
    "version": 3
   },
   "file_extension": ".py",
   "mimetype": "text/x-python",
   "name": "python",
   "nbconvert_exporter": "python",
   "pygments_lexer": "ipython3",
   "version": "3.10.9"
  }
 },
 "nbformat": 4,
 "nbformat_minor": 5
}
